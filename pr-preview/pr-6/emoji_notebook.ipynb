{
 "cells": [
  {
   "cell_type": "code",
   "execution_count": null,
   "metadata": {},
   "outputs": [],
   "source": [
    "from emoji_playground import *\n",
    "from PIL import Image\n",
    "import matplotlib.pyplot as plt\n",
    "import requests"
   ]
  },
  {
   "cell_type": "code",
   "execution_count": null,
   "metadata": {},
   "outputs": [],
   "source": [
    "current_emoji = current_emoji\n",
    "current_filter_name = current_filter_name\n",
    "emoji_code = \"-\".join(f\"{ord(c):x}\" for c in current_emoji).upper()\n",
    "url = f\"https://raw.githubusercontent.com/hfg-gmuend/openmoji/master/color/618x618/{emoji_code}.png\"\n",
    "emoji_data = Image.open(requests.get(url, stream=True).raw)\n",
    "emoji_data = np.array(emoji_data.convert(\"RGBA\"))\n"
   ]
  },
  {
   "cell_type": "code",
   "execution_count": null,
   "metadata": {},
   "outputs": [],
   "source": [
    "plt.subplot(1,2,1)\n",
    "plt.imshow(emoji_data)\n",
    "plt.axis(\"off\")\n",
    "\n",
    "plt.subplot(1,2,2)\n",
    "filtered_image = filter_names[current_filter_name](emoji_data)\n",
    "plt.imshow(filtered_image)\n",
    "plt.axis(\"off\");"
   ]
  },
  {
   "cell_type": "code",
   "execution_count": null,
   "metadata": {},
   "outputs": [],
   "source": []
  }
 ],
 "metadata": {
  "kernelspec": {
   "display_name": "Python 3.9.12 ('emoji_skimage_env': venv)",
   "language": "python",
   "name": "python3"
  },
  "language_info": {
   "codemirror_mode": {
    "name": "ipython",
    "version": 3
   },
   "file_extension": ".py",
   "mimetype": "text/x-python",
   "name": "python",
   "nbconvert_exporter": "python",
   "pygments_lexer": "ipython3",
   "version": "3.10.5"
  },
  "orig_nbformat": 4,
  "vscode": {
   "interpreter": {
    "hash": "f84cbea63450ac9ac6930a8b8032b1700c9d37cae281b9ce71cb0663130d8093"
   }
  }
 },
 "nbformat": 4,
 "nbformat_minor": 2
}
