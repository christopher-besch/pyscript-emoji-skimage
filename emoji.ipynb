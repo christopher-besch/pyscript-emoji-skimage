{
 "cells": [
  {
   "cell_type": "code",
   "execution_count": 1,
   "metadata": {},
   "outputs": [],
   "source": [
    "from emoji_playground import *"
   ]
  },
  {
   "cell_type": "code",
   "execution_count": 2,
   "metadata": {},
   "outputs": [
    {
     "data": {
      "text/plain": [
       "{'swirl': <function emoji_playground.swirl_filter(my_array: <built-in function array>) -> <built-in function array>>,\n",
       " 'affine': <function emoji_playground.affine_filter(my_array: <built-in function array>) -> <built-in function array>>,\n",
       " 'butterworth_low': functools.partial(<function butterworth_filter at 0x12d9df1c0>, high_pass=False, order=8.0),\n",
       " 'butterworth_high': functools.partial(<function butterworth_filter at 0x12d9df1c0>, frequency=0.01, high_pass=True, order=8.0)}"
      ]
     },
     "execution_count": 2,
     "metadata": {},
     "output_type": "execute_result"
    }
   ],
   "source": [
    "filter_names"
   ]
  },
  {
   "cell_type": "code",
   "execution_count": 6,
   "metadata": {},
   "outputs": [
    {
     "data": {
      "text/plain": [
       "'🦴'"
      ]
     },
     "execution_count": 6,
     "metadata": {},
     "output_type": "execute_result"
    }
   ],
   "source": [
    "current_emoji"
   ]
  },
  {
   "cell_type": "code",
   "execution_count": null,
   "metadata": {},
   "outputs": [],
   "source": []
  }
 ],
 "metadata": {
  "kernelspec": {
   "display_name": "Python 3.9.12 ('emoji_skimage_env': venv)",
   "language": "python",
   "name": "python3"
  },
  "language_info": {
   "codemirror_mode": {
    "name": "ipython",
    "version": 3
   },
   "file_extension": ".py",
   "mimetype": "text/x-python",
   "name": "python",
   "nbconvert_exporter": "python",
   "pygments_lexer": "ipython3",
   "version": "3.10.5"
  },
  "orig_nbformat": 4,
  "vscode": {
   "interpreter": {
    "hash": "f84cbea63450ac9ac6930a8b8032b1700c9d37cae281b9ce71cb0663130d8093"
   }
  }
 },
 "nbformat": 4,
 "nbformat_minor": 2
}
